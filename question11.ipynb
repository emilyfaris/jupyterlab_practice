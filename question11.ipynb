{
 "cells": [
  {
   "cell_type": "markdown",
   "id": "0a59a892-ec1a-4eee-8338-7d144a353414",
   "metadata": {},
   "source": [
    "# Emily Faris\n",
    "\n",
    "Notebook for assignment 7."
   ]
  },
  {
   "cell_type": "code",
   "execution_count": 1,
   "id": "88ac7b19-a10f-4d35-aa35-a49a0881e700",
   "metadata": {},
   "outputs": [
    {
     "data": {
      "text/plain": [
       "5.0"
      ]
     },
     "execution_count": 1,
     "metadata": {},
     "output_type": "execute_result"
    }
   ],
   "source": [
    "def compute_mean(values):\n",
    "    \"\"\"Computes the mean of a list of numbers.\"\"\"\n",
    "    return sum(values) / len(values)\n",
    "\n",
    "# Call function and print result\n",
    "result = compute_mean([2, 4, 6, 8])\n",
    "result"
   ]
  },
  {
   "cell_type": "markdown",
   "id": "8c62e2c0-b680-4611-8839-996a12f68498",
   "metadata": {},
   "source": [
    "This function computes the mean of a given list of numbers by summing all elements and dividing by the number of elements.\n",
    "\n",
    "The mean ($\\bar{x}$) is calculated using the following formula:\n",
    "\n",
    "$$ \\bar{x} = \\frac{x_1 + x_2 + \\dots + x_n}{n} = \\frac{1}{n} \\sum_{i=1}^{n} x_i $$"
   ]
  }
 ],
 "metadata": {
  "kernelspec": {
   "display_name": "Python [conda env:base] *",
   "language": "python",
   "name": "conda-base-py"
  },
  "language_info": {
   "codemirror_mode": {
    "name": "ipython",
    "version": 3
   },
   "file_extension": ".py",
   "mimetype": "text/x-python",
   "name": "python",
   "nbconvert_exporter": "python",
   "pygments_lexer": "ipython3",
   "version": "3.12.3"
  }
 },
 "nbformat": 4,
 "nbformat_minor": 5
}
